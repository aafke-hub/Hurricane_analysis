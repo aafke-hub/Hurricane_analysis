{
 "cells": [
  {
   "cell_type": "markdown",
   "metadata": {},
   "source": [
    "# Hurricanes (Python Dictionaries Challenge Project)\n",
    "Hurricanes, also known as cyclones or typhoons, are one of the most powerful forces of nature on Earth. Due to climate change caused by human activity, the number and intensity of hurricanes has risen, calling for better preparation by the many communities that are devastated by them. As a concerned environmentalist, you want to look at data about the most powerful hurricanes that have occurred."
   ]
  },
  {
   "cell_type": "code",
   "execution_count": 1,
   "metadata": {},
   "outputs": [],
   "source": [
    "# names of hurricanes\n",
    "names = ['Cuba I', 'San Felipe II Okeechobee', 'Bahamas', 'Cuba II', 'CubaBrownsville', 'Tampico', 'Labor Day', 'New England', 'Carol', 'Janet', 'Carla', 'Hattie', 'Beulah', 'Camille', 'Edith', 'Anita', 'David', 'Allen', 'Gilbert', 'Hugo', 'Andrew', 'Mitch', 'Isabel', 'Ivan', 'Emily', 'Katrina', 'Rita', 'Wilma', 'Dean', 'Felix', 'Matthew', 'Irma', 'Maria', 'Michael']"
   ]
  },
  {
   "cell_type": "code",
   "execution_count": 2,
   "metadata": {},
   "outputs": [],
   "source": [
    "# months of hurricanes\n",
    "months = ['October', 'September', 'September', 'November', 'August', 'September', 'September', 'September', 'September', 'September', 'September', 'October', 'September', 'August', 'September', 'September', 'August', 'August', 'September', 'September', 'August', 'October', 'September', 'September', 'July', 'August', 'September', 'October', 'August', 'September', 'October', 'September', 'September', 'October']"
   ]
  },
  {
   "cell_type": "code",
   "execution_count": 3,
   "metadata": {},
   "outputs": [],
   "source": [
    "# years of hurricanes\n",
    "years = [1924, 1928, 1932, 1932, 1933, 1933, 1935, 1938, 1953, 1955, 1961, 1961, 1967, 1969, 1971, 1977, 1979, 1980, 1988, 1989, 1992, 1998, 2003, 2004, 2005, 2005, 2005, 2005, 2007, 2007, 2016, 2017, 2017, 2018]\n"
   ]
  },
  {
   "cell_type": "code",
   "execution_count": 4,
   "metadata": {},
   "outputs": [],
   "source": [
    "# maximum sustained winds (mph) of hurricanes\n",
    "max_sustained_winds = [165, 160, 160, 175, 160, 160, 185, 160, 160, 175, 175, 160, 160, 175, 160, 175, 175, 190, 185, 160, 175, 180, 165, 165, 160, 175, 180, 185, 175, 175, 165, 180, 175, 160]"
   ]
  },
  {
   "cell_type": "code",
   "execution_count": 5,
   "metadata": {},
   "outputs": [],
   "source": [
    "# areas affected by each hurricane\n",
    "areas_affected = [['Central America', 'Mexico', 'Cuba', 'Florida', 'The Bahamas'], ['Lesser Antilles', 'The Bahamas', 'United States East Coast', 'Atlantic Canada'], ['The Bahamas', 'Northeastern United States'], ['Lesser Antilles', 'Jamaica', 'Cayman Islands', 'Cuba', 'The Bahamas', 'Bermuda'], ['The Bahamas', 'Cuba', 'Florida', 'Texas', 'Tamaulipas'], ['Jamaica', 'Yucatn Peninsula'], ['The Bahamas', 'Florida', 'Georgia', 'The Carolinas', 'Virginia'], ['Southeastern United States', 'Northeastern United States', 'Southwestern Quebec'], ['Bermuda', 'New England', 'Atlantic Canada'], ['Lesser Antilles', 'Central America'], ['Texas', 'Louisiana', 'Midwestern United States'], ['Central America'], ['The Caribbean', 'Mexico', 'Texas'], ['Cuba', 'United States Gulf Coast'], ['The Caribbean', 'Central America', 'Mexico', 'United States Gulf Coast'], ['Mexico'], ['The Caribbean', 'United States East coast'], ['The Caribbean', 'Yucatn Peninsula', 'Mexico', 'South Texas'], ['Jamaica', 'Venezuela', 'Central America', 'Hispaniola', 'Mexico'], ['The Caribbean', 'United States East Coast'], ['The Bahamas', 'Florida', 'United States Gulf Coast'], ['Central America', 'Yucatn Peninsula', 'South Florida'], ['Greater Antilles', 'Bahamas', 'Eastern United States', 'Ontario'], ['The Caribbean', 'Venezuela', 'United States Gulf Coast'], ['Windward Islands', 'Jamaica', 'Mexico', 'Texas'], ['Bahamas', 'United States Gulf Coast'], ['Cuba', 'United States Gulf Coast'], ['Greater Antilles', 'Central America', 'Florida'], ['The Caribbean', 'Central America'], ['Nicaragua', 'Honduras'], ['Antilles', 'Venezuela', 'Colombia', 'United States East Coast', 'Atlantic Canada'], ['Cape Verde', 'The Caribbean', 'British Virgin Islands', 'U.S. Virgin Islands', 'Cuba', 'Florida'], ['Lesser Antilles', 'Virgin Islands', 'Puerto Rico', 'Dominican Republic', 'Turks and Caicos Islands'], ['Central America', 'United States Gulf Coast (especially Florida Panhandle)']]"
   ]
  },
  {
   "cell_type": "code",
   "execution_count": 6,
   "metadata": {},
   "outputs": [],
   "source": [
    "# damages (USD($)) of hurricanes\n",
    "damages = ['Damages not recorded', '100M', 'Damages not recorded', '40M', '27.9M', '5M', 'Damages not recorded', '306M', '2M', '65.8M', '326M', '60.3M', '208M', '1.42B', '25.4M', 'Damages not recorded', '1.54B', '1.24B', '7.1B', '10B', '26.5B', '6.2B', '5.37B', '23.3B', '1.01B', '125B', '12B', '29.4B', '1.76B', '720M', '15.1B', '64.8B', '91.6B', '25.1B']"
   ]
  },
  {
   "cell_type": "code",
   "execution_count": 7,
   "metadata": {},
   "outputs": [],
   "source": [
    "# deaths for each hurricane\n",
    "deaths = [90,4000,16,3103,179,184,408,682,5,1023,43,319,688,259,37,11,2068,269,318,107,65,19325,51,124,17,1836,125,87,45,133,603,138,3057,74]\n"
   ]
  },
  {
   "cell_type": "markdown",
   "metadata": {},
   "source": [
    "# Task 1: Convert damage list\n",
    "Begin by looking at the damages list. The list contains strings representing the total cost in USD($) caused by 34 category 5 hurricanes (wind speeds ≥ 157 mph (252 km/h )) in the Atlantic region. For some of the hurricanes, damage data was not recorded (\"Damages not recorded\"), while the rest are written in the format \"Prefix-B/M\", where B stands for billions (1000000000) and M stands for millions (1000000).\n",
    "\n",
    "Write a function that returns a new list of updated damages where the recorded data is converted to float values and the missing data is retained as \"Damages not recorded\".\n",
    "\n",
    "Test your function with the data stored in damages."
   ]
  },
  {
   "cell_type": "code",
   "execution_count": 8,
   "metadata": {
    "scrolled": false
   },
   "outputs": [
    {
     "name": "stdout",
     "output_type": "stream",
     "text": [
      "['Damages not recorded', '100M', 'Damages not recorded', '40M', '27.9M', '5M', 'Damages not recorded', '306M', '2M', '65.8M', '326M', '60.3M', '208M', '1.42B', '25.4M', 'Damages not recorded', '1.54B', '1.24B', '7.1B', '10B', '26.5B', '6.2B', '5.37B', '23.3B', '1.01B', '125B', '12B', '29.4B', '1.76B', '720M', '15.1B', '64.8B', '91.6B', '25.1B']\n",
      "['Damages not recorded', 100000000, 'Damages not recorded', 40000000, 27900000, 5000000, 'Damages not recorded', 306000000, 2000000, 65800000, 326000000, 60300000, 208000000, 1420000000, 25400000, 'Damages not recorded', 1540000000, 1240000000, 7100000000, 10000000000, 26500000000, 6200000000, 5370000000, 23300000000, 1010000000, 125000000000, 12000000000, 29400000000, 1760000000, 720000000, 15100000000, 64800000000, 91600000000, 25100000000]\n"
     ]
    }
   ],
   "source": [
    "# write your update damages function here:\n",
    "print(damages)\n",
    "updated_damages = []\n",
    "for i in damages:\n",
    "    last_character = i[-1]\n",
    "    if i == \"Damages not recorded\":\n",
    "        updated_damages.append(i)\n",
    "    if last_character == \"M\":\n",
    "        new_num = int((float(i[:-1]))*1000000)\n",
    "        updated_damages.append(new_num)\n",
    "    if last_character == \"B\":\n",
    "        new_num = int((float(i[:-1]))*1000000000)\n",
    "        updated_damages.append(new_num)\n",
    "print(updated_damages)   \n"
   ]
  },
  {
   "cell_type": "markdown",
   "metadata": {},
   "source": [
    "# Task 2: Create 'hurricane' dictionary¶\n",
    "Begin by looking at the damages list. Write a function that constructs a dictionary made out of the lists, where the keys of the dictionary are the names of the hurricanes, and the values are dictionaries themselves containing a key for each piece of data (Name, Month, Year,Max Sustained Wind, Areas Affected, Damage, Death) about the hurricane.\n",
    "\n",
    "Thus the key \"Cuba I\" would have the value: {'Name': 'Cuba I', 'Month': 'October', 'Year': 1924, 'Max Sustained Wind': 165, 'Areas Affected': ['Central America', 'Mexico', 'Cuba', 'Florida', 'The Bahamas'], 'Damage': 'Damages not recorded', 'Deaths': 90}.\n",
    "\n",
    "Test your function on the lists of data provided."
   ]
  },
  {
   "cell_type": "code",
   "execution_count": 9,
   "metadata": {},
   "outputs": [
    {
     "name": "stdout",
     "output_type": "stream",
     "text": [
      "{'Name': 'Cuba I', 'Month': 'October', 'Year': 1924, 'Max Sustained Wind': 165, 'Areas Affected': ['Central America', 'Mexico', 'Cuba', 'Florida', 'The Bahamas'], 'Damages': 'Damages not recorded', 'Deaths': 90}\n"
     ]
    }
   ],
   "source": [
    "hurricanes = {}\n",
    "def update_hurricanes(name, month, year, max_sustained_wind, area_affected, damage, death):\n",
    "    hurricanes[name] = {\"Name\": name, \"Month\": month, \"Year\": year, \"Max Sustained Wind\": max_sustained_wind, \"Areas Affected\": area_affected, \"Damages\": damage, \"Deaths\": death}\n",
    "    \n",
    "for i in range(0, len(names)):\n",
    "    update_hurricanes(names[i], months[i], years[i], max_sustained_winds[i], areas_affected[i], updated_damages[i], deaths[i])\n",
    "\n",
    "#print(hurricanes)\n",
    "print(hurricanes[\"Cuba I\"])\n"
   ]
  },
  {
   "cell_type": "markdown",
   "metadata": {},
   "source": [
    "# Task 3: Hurricanes by year\n",
    "In addition to organizing the hurricanes in a dictionary with names as the key, you want to be able to organize the hurricanes by year.\n",
    "\n",
    "Write a function that converts the current dictionary of hurricanes to a new dictionary, where the keys are years and the values are lists containing a dictionary for each hurricane that occurred in that year.\n",
    "\n",
    "For example, the key 1932 would yield the value: [{'Name': 'Bahamas', 'Month': 'September', 'Year': 1932, 'Max Sustained Wind': 160, 'Areas Affected': ['The Bahamas', 'Northeastern United States'], 'Damage': 'Damages not recorded', 'Deaths': 16}, {'Name': 'Cuba II', 'Month': 'November', 'Year': 1932, 'Max Sustained Wind': 175, 'Areas Affected': ['Lesser Antilles', 'Jamaica', 'Cayman Islands', 'Cuba', 'The Bahamas', 'Bermuda'], 'Damage': 40000000.0, 'Deaths': 3103}].\n",
    "\n",
    "Test your function on your hurricane dictionary"
   ]
  },
  {
   "cell_type": "code",
   "execution_count": 10,
   "metadata": {
    "scrolled": true
   },
   "outputs": [
    {
     "name": "stdout",
     "output_type": "stream",
     "text": [
      "[{'Name': 'Bahamas', 'Month': 'September', 'Year': 1932, 'Max Sustained Wind': 160, 'Areas Affected': ['The Bahamas', 'Northeastern United States'], 'Damages': 'Damages not recorded', 'Deaths': 16}, {'Name': 'Cuba II', 'Month': 'November', 'Year': 1932, 'Max Sustained Wind': 175, 'Areas Affected': ['Lesser Antilles', 'Jamaica', 'Cayman Islands', 'Cuba', 'The Bahamas', 'Bermuda'], 'Damages': 40000000, 'Deaths': 3103}]\n"
     ]
    }
   ],
   "source": [
    "hurricanes_by_year = {}\n",
    "for name, data in hurricanes.items():\n",
    "    current_year = data[\"Year\"]\n",
    "    current_data = {\"Name\": name, \"Month\": data[\"Month\"], \"Year\": data[\"Year\"], \"Max Sustained Wind\": data[\"Max Sustained Wind\"], \"Areas Affected\": data[\"Areas Affected\"], \"Damages\": data[\"Damages\"], \"Deaths\": data[\"Deaths\"]}\n",
    "    if current_year not in hurricanes_by_year.keys():\n",
    "        hurricanes_by_year[current_year] = [current_data]\n",
    "    else:\n",
    "        hurricanes_by_year[current_year].append(current_data)\n",
    "print(hurricanes_by_year[1932])\n",
    "    "
   ]
  },
  {
   "cell_type": "markdown",
   "metadata": {},
   "source": [
    "# Task 4: Areas affected\n",
    "You believe that knowing how often each of the areas of the Atlantic are affected by these strong hurricanes is important for making preparations for future hurricanes.\n",
    "\n",
    "Write a function that counts how often each area is listed as an affected area of a hurricane. Store and return the results in a dictionary where the keys are the affected areas and the values are counts of how many times the areas were affected.\n",
    "\n",
    "Test your function on your hurricane dictionary."
   ]
  },
  {
   "cell_type": "code",
   "execution_count": 11,
   "metadata": {},
   "outputs": [
    {
     "name": "stdout",
     "output_type": "stream",
     "text": [
      "{'Central America': 9, 'Mexico': 7, 'Cuba': 6, 'Florida': 6, 'The Bahamas': 7, 'Lesser Antilles': 4, 'United States East Coast': 3, 'Atlantic Canada': 3, 'Northeastern United States': 2, 'Jamaica': 4, 'Cayman Islands': 1, 'Bermuda': 2, 'Texas': 4, 'Tamaulipas': 1, 'Yucatn Peninsula': 3, 'Georgia': 1, 'The Carolinas': 1, 'Virginia': 1, 'Southeastern United States': 1, 'Southwestern Quebec': 1, 'New England': 1, 'Louisiana': 1, 'Midwestern United States': 1, 'The Caribbean': 8, 'United States Gulf Coast': 6, 'United States East coast': 1, 'South Texas': 1, 'Venezuela': 3, 'Hispaniola': 1, 'South Florida': 1, 'Greater Antilles': 2, 'Bahamas': 2, 'Eastern United States': 1, 'Ontario': 1, 'Windward Islands': 1, 'Nicaragua': 1, 'Honduras': 1, 'Antilles': 1, 'Colombia': 1, 'Cape Verde': 1, 'British Virgin Islands': 1, 'U.S. Virgin Islands': 1, 'Virgin Islands': 1, 'Puerto Rico': 1, 'Dominican Republic': 1, 'Turks and Caicos Islands': 1, 'United States Gulf Coast (especially Florida Panhandle)': 1}\n"
     ]
    }
   ],
   "source": [
    "# Create new dictionary with key \"Areas Affected\" and value \"Count\" of how many times it's affected\n",
    "hurricane_areas = {}  \n",
    "for name, data in hurricanes.items():\n",
    "    current_area = data[\"Areas Affected\"]  \n",
    "    for i in current_area:\n",
    "        if i not in hurricane_areas.keys():\n",
    "            count = 1\n",
    "            hurricane_areas[i] = count \n",
    "        else:\n",
    "            count = hurricane_areas.get(i)\n",
    "            hurricane_areas[i] = count + 1\n",
    "print(hurricane_areas)"
   ]
  },
  {
   "cell_type": "markdown",
   "metadata": {},
   "source": [
    "# Task 5: Most affected area\n",
    "Write a function that finds the area affected by the most hurricanes, and how often it was hit.\n",
    "\n",
    "Test your function on your affected area dictionary."
   ]
  },
  {
   "cell_type": "code",
   "execution_count": 12,
   "metadata": {
    "scrolled": true
   },
   "outputs": [
    {
     "name": "stdout",
     "output_type": "stream",
     "text": [
      "The area affected by most hurricanes is Central America, which was hit 9 times.\n"
     ]
    }
   ],
   "source": [
    "# using \"hurricane_areas\" find the area with the highest count\n",
    "\n",
    "def most_frequently_hit(dictionary):\n",
    "    import operator\n",
    "    hits = dict(sorted(dictionary.items(), key=operator.itemgetter(1),reverse=True))\n",
    "    dict_items = hits.items()\n",
    "    first_item = list(dict_items)[0]\n",
    "    print(\"The area affected by most hurricanes is \" + first_item[0] + \", which was hit \" + str(first_item[1]) + \" times.\")\n",
    "\n",
    "most_frequently_hit(hurricane_areas)"
   ]
  },
  {
   "cell_type": "markdown",
   "metadata": {},
   "source": [
    "# Task 6: Most damaging hurricane\n",
    "Write a function that finds the hurricane that caused the greatest number of deaths, and how many deaths it caused.\n",
    "\n",
    "Test your function on your hurricane dictionary."
   ]
  },
  {
   "cell_type": "code",
   "execution_count": 13,
   "metadata": {},
   "outputs": [
    {
     "name": "stdout",
     "output_type": "stream",
     "text": [
      "The greatest number of deaths was caused by Hurricane Mitch, namely 19325 deaths.\n"
     ]
    }
   ],
   "source": [
    "# Method 1: works but doesn't use a function\n",
    "# create a new dictionary with names as key and deaths as value\n",
    "hurricanes_by_death = {}\n",
    "for name, data in hurricanes.items():\n",
    "    current_data = name\n",
    "    current_death = data[\"Deaths\"]\n",
    "    hurricanes_by_death[current_data] = current_death  # {'Cuba I': 90, 'San Felipe II Okeechobee': 4000, etc. \n",
    "\n",
    "# find the maximum death rate (value)\n",
    "MaxDictVal = max(hurricanes_by_death, key=hurricanes_by_death.get)  # Mitch\n",
    "hurricane_stats = hurricanes[MaxDictVal]\n",
    "print(\"The greatest number of deaths was caused by Hurricane \" + MaxDictVal + \", namely \" + str(hurricane_stats[\"Deaths\"]) + \" deaths.\")"
   ]
  },
  {
   "cell_type": "code",
   "execution_count": 14,
   "metadata": {},
   "outputs": [
    {
     "name": "stdout",
     "output_type": "stream",
     "text": [
      "The greatest number of deaths was caused by Hurricane Mitch, namely 19325 deaths.\n"
     ]
    }
   ],
   "source": [
    "# Method 2: using a function\n",
    "# using the dictionary hurricanes_by_death, find the hightest death rate and link it to a hurricane\n",
    "\n",
    "def highest_death_toll(dictionary):\n",
    "    for name, data in dictionary.items():\n",
    "        current_data = name\n",
    "        current_death = data[\"Deaths\"]\n",
    "        hurricanes_by_death[current_data] = current_death\n",
    "    import operator\n",
    "    death_toll = dict(sorted(hurricanes_by_death.items(), key=operator.itemgetter(1),reverse=True))\n",
    "    dict_items = death_toll.items()\n",
    "    first_item = list(dict_items)[0]\n",
    "    print(\"The greatest number of deaths was caused by Hurricane \" + first_item[0] + \", namely \" + str(first_item[1]) + \" deaths.\")\n",
    "\n",
    "highest_death_toll(hurricanes)"
   ]
  },
  {
   "cell_type": "markdown",
   "metadata": {},
   "source": [
    "# Task 7: Rate by mortality scale\n",
    "Just as hurricanes are rated by their windspeed, you want to try rating hurricanes based on other metrics.\n",
    "\n",
    "Write a function that rates hurricanes on a mortality scale according to the following ratings, where the key is the rating and the value is the upper bound of deaths for that rating.\n",
    "\n",
    "mortality_scale = {0: 0,\n",
    "                   1: 100,\n",
    "                   2: 500,\n",
    "                   3: 1000,\n",
    "                   4: 10000}\n",
    "                   \n",
    "For example, a hurricane with a 1 mortality rating would have resulted in greater than 0 but less than or equal to 100 deaths. A hurricane with a 5 mortality rating would have resulted in greater than 10000 deaths.\n",
    "\n",
    "Store the hurricanes in a new dictionary where the keys are mortality ratings and the values are lists containing a dictionary for each hurricane that falls into that mortality rating.\n",
    "\n",
    "Test your function on your hurricane dictionary."
   ]
  },
  {
   "cell_type": "code",
   "execution_count": 15,
   "metadata": {},
   "outputs": [
    {
     "name": "stdout",
     "output_type": "stream",
     "text": [
      "{0: [], 1: ['Cuba I', 'Bahamas', 'Carol', 'Carla', 'Edith', 'Anita', 'Andrew', 'Isabel', 'Emily', 'Wilma', 'Dean', 'Michael'], 2: ['CubaBrownsville', 'Tampico', 'Labor Day', 'Hattie', 'Camille', 'Allen', 'Gilbert', 'Hugo', 'Ivan', 'Rita', 'Felix', 'Irma'], 3: ['New England', 'Beulah', 'Matthew'], 4: ['San Felipe II Okeechobee', 'Cuba II', 'Janet', 'David', 'Katrina', 'Maria'], 5: ['Mitch']}\n"
     ]
    }
   ],
   "source": [
    "def determine_mortality_scale(dictionary):\n",
    "    mortality_scale = {0: 0, 1: 100, 2: 500, 3: 1000, 4: 10000}\n",
    "    hurricanes_by_mortality = {0:[], 1:[], 2:[], 3:[], 4:[], 5:[]} \n",
    "    for name, data in  dictionary.items():\n",
    "        mortality = data[\"Deaths\"]\n",
    "        if mortality == mortality_scale[0]:\n",
    "            hurricanes_by_mortality[0].append(name)\n",
    "        if mortality in range(mortality_scale[0]+1,mortality_scale[1]+1):\n",
    "            hurricanes_by_mortality[1].append(name)\n",
    "        if mortality in range(mortality_scale[1]+1,mortality_scale[2]+1):\n",
    "            hurricanes_by_mortality[2].append(name)\n",
    "        if mortality in range(mortality_scale[2]+1,mortality_scale[3]+1):\n",
    "            hurricanes_by_mortality[3].append(name)\n",
    "        if mortality in range(mortality_scale[3]+1,mortality_scale[4]+1):\n",
    "            hurricanes_by_mortality[4].append(name)\n",
    "        if mortality > mortality_scale[4]+1:\n",
    "            hurricanes_by_mortality[5].append(name)\n",
    "    print(hurricanes_by_mortality)\n",
    "\n",
    "determine_mortality_scale(hurricanes)"
   ]
  },
  {
   "cell_type": "markdown",
   "metadata": {},
   "source": [
    "# Task 8: Greatest damage\n",
    "Write a function that finds the hurricane that caused the greatest damage, and how costly it was.\n",
    "\n",
    "Test your function on your hurricane dictionary."
   ]
  },
  {
   "cell_type": "code",
   "execution_count": 16,
   "metadata": {},
   "outputs": [
    {
     "name": "stdout",
     "output_type": "stream",
     "text": [
      "Katrina is the hurricane that caused the greatest damage. The damage was $125000000000.\n"
     ]
    }
   ],
   "source": [
    "def determine_greatest_damage(dictionary):\n",
    "    max_damage_cane = 'test'\n",
    "    max_damage = 0\n",
    "    for name, data in dictionary.items():\n",
    "        damage = data[\"Damages\"]\n",
    "        if not damage == \"Damages not recorded\":\n",
    "            if damage > max_damage:\n",
    "                max_damage = damage\n",
    "                max_damage_cane = name\n",
    "    print(max_damage_cane + \" is the hurricane that caused the greatest damage. The damage was $\" + str(max_damage) + \".\")\n",
    "            \n",
    "determine_greatest_damage(hurricanes)"
   ]
  },
  {
   "cell_type": "markdown",
   "metadata": {},
   "source": [
    "# Task 9: Rate hurricanes by damage\n",
    "Write a function that rates hurricanes on a damage scale according to the following ratings, where the key is the rating and the value is the upper bound of damage for that rating.\n",
    "\n",
    "damage_scale = {0: 0,\n",
    "                1: 100000000,\n",
    "                2: 1000000000,\n",
    "                3: 10000000000,\n",
    "                4: 50000000000}\n",
    "\n",
    "For example, a hurricane with a 1 damage rating would have resulted in damages greater than 0 USD but less than or equal to 100000000 USD. A hurricane with a 5 damage rating would have resulted in damages greater than 50000000000 USD (talk about a lot of money).\n",
    "\n",
    "Store the hurricanes in a new dictionary where the keys are damage ratings and the values are lists containing a dictionary for each hurricane that falls into that damage rating.\n",
    "\n",
    "Test your function on your hurricane dictionary"
   ]
  },
  {
   "cell_type": "code",
   "execution_count": 17,
   "metadata": {},
   "outputs": [
    {
     "name": "stdout",
     "output_type": "stream",
     "text": [
      "{0: [], 1: ['San Felipe II Okeechobee', 'Cuba II', 'CubaBrownsville', 'Tampico', 'Carol', 'Janet', 'Hattie', 'Edith'], 2: ['New England', 'Carla', 'Beulah', 'Felix'], 3: ['Camille', 'David', 'Allen', 'Gilbert', 'Hugo', 'Mitch', 'Isabel', 'Emily', 'Dean'], 4: ['Andrew', 'Ivan', 'Rita', 'Wilma', 'Matthew', 'Michael'], 5: ['Katrina', 'Irma', 'Maria']}\n"
     ]
    }
   ],
   "source": [
    "def determine_damage_scale(dictionary):\n",
    "    damage_scale = {0: 0, 1: 100000000, 2: 1000000000, 3: 10000000000, 4: 50000000000}\n",
    "    hurricanes_by_damage = {0:[], 1:[], 2:[], 3:[], 4:[], 5:[]}\n",
    "    for name, data in  dictionary.items():\n",
    "        damage = data[\"Damages\"]\n",
    "        if not damage == \"Damages not recorded\":\n",
    "            if damage == damage_scale[0]:\n",
    "                hurricanes_by_damage[0].append(name)\n",
    "            if damage in range(damage_scale[0]+1, damage_scale[1]+1):\n",
    "                hurricanes_by_damage[1].append(name)\n",
    "            if damage in range(damage_scale[1]+1, damage_scale[2]+1):\n",
    "                hurricanes_by_damage[2].append(name)\n",
    "            if damage in range(damage_scale[2]+1, damage_scale[3]+1):\n",
    "                hurricanes_by_damage[3].append(name)\n",
    "            if damage in range(damage_scale[3]+1, damage_scale[4]+1):\n",
    "                hurricanes_by_damage[4].append(name)\n",
    "            if damage > damage_scale[4]+1:\n",
    "                hurricanes_by_damage[5].append(name)\n",
    "    \n",
    "    print(hurricanes_by_damage)\n",
    "\n",
    "determine_damage_scale(hurricanes)"
   ]
  }
 ],
 "metadata": {
  "kernelspec": {
   "display_name": "Python 3",
   "language": "python",
   "name": "python3"
  },
  "language_info": {
   "codemirror_mode": {
    "name": "ipython",
    "version": 3
   },
   "file_extension": ".py",
   "mimetype": "text/x-python",
   "name": "python",
   "nbconvert_exporter": "python",
   "pygments_lexer": "ipython3",
   "version": "3.8.3"
  }
 },
 "nbformat": 4,
 "nbformat_minor": 4
}
